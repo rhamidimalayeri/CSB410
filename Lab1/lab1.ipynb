{
 "cells": [
  {
   "cell_type": "markdown",
   "id": "74323179",
   "metadata": {
    "id": "74323179"
   },
   "source": [
    "# Lab 1 — Getting Started with Keras\n",
    "\n",
    "### Include a Markdown cell below this with your name\n"
   ]
  },
  {
   "cell_type": "markdown",
   "id": "462098c9",
   "metadata": {},
   "source": [
    "### Google Colab Button section\n",
    "\n",
    "#### Double click this to see the code for the button\n",
    "\n",
    "You will be required to make your Google Colab button here. Please see how to do this on Canvas.  \n",
    "Below is an example. It will not go anywhere because _username_, _repo_ and _path-to-file_ need to be updated.  \n",
    "username is your github username.  \n",
    "repo is the name of your repo.  \n",
    "path-to-file is the path to the file. So if this was the (username) BS-CS (repo) CSB410_Labs repo, it would be Labs/week02_lab.ipynb.\n",
    "\n",
    "[![Open In Colab](https://colab.research.google.com/assets/colab-badge.svg)](https://colab.research.google.com/github/username/repo/blob/main/path-to-file)\n"
   ]
  },
  {
   "cell_type": "markdown",
   "id": "a733f8c3",
   "metadata": {
    "id": "a733f8c3"
   },
   "source": [
    "## A.1 Colab / Environment Check\n"
   ]
  },
  {
   "cell_type": "code",
   "execution_count": null,
   "id": "aea4fd8f",
   "metadata": {
    "id": "aea4fd8f"
   },
   "outputs": [],
   "source": [
    "import sys, numpy as np, tensorflow as tf\n",
    "print(\"Python:\", sys.version.split()[0])\n",
    "print(\"NumPy:\", np.__version__)\n",
    "print(\"TensorFlow:\", tf.__version__)"
   ]
  },
  {
   "cell_type": "markdown",
   "id": "2956ccb2",
   "metadata": {
    "id": "2956ccb2"
   },
   "source": [
    "## A.2 Load and Inspect MNIST\n"
   ]
  },
  {
   "cell_type": "code",
   "execution_count": null,
   "id": "81674c4b",
   "metadata": {
    "id": "81674c4b"
   },
   "outputs": [],
   "source": [
    "# TODO: load MNIST via keras.datasets and assign to x_train, y_train, x_test, y_test\n",
    "from tensorflow import keras\n",
    "(x_train, y_train), (x_test, y_test) = ____\n",
    "\n",
    "# TODO: print shapes\n",
    "print(\"Train:\", ____, ____)\n",
    "print(\"Test :\", ____, ____)\n",
    "\n",
    "# TODO: visualize first 5 samples using matplotlib (grayscale)\n",
    "import matplotlib.pyplot as plt\n",
    "fig = plt.figure(figsize=(10,2))\n",
    "for i in range(5):\n",
    "    plt.subplot(1,5,i+1)\n",
    "    plt.imshow(____, cmap=\"gray\")\n",
    "    plt.title(int(____))\n",
    "    plt.axis(\"off\")\n",
    "plt.tight_layout()"
   ]
  },
  {
   "cell_type": "markdown",
   "id": "9bbf979e",
   "metadata": {
    "id": "9bbf979e"
   },
   "source": [
    "## A.3 Preprocess Data\n"
   ]
  },
  {
   "cell_type": "code",
   "execution_count": null,
   "id": "b0db2182",
   "metadata": {
    "id": "b0db2182"
   },
   "outputs": [],
   "source": [
    "# TODO: normalize images to [0,1] and flatten to length 784\n",
    "x_train = ____.astype(\"float32\") / ____\n",
    "x_test  = ____.astype(\"float32\") / ____\n",
    "x_train = x_train.reshape((x_train.shape[0], ____))\n",
    "x_test  = x_test.reshape((x_test.shape[0], ____))\n",
    "num_classes = 10\n",
    "\n",
    "# Sanity checks (do not modify)\n",
    "assert x_train.shape[1] == 784 and x_test.shape[1] == 784, \"Flattening incorrect\"\n",
    "print(\"Flattened:\", x_train.shape, x_test.shape)"
   ]
  },
  {
   "cell_type": "markdown",
   "id": "b711d52e",
   "metadata": {
    "id": "b711d52e"
   },
   "source": [
    "## A.4 Build a Shallow Network\n"
   ]
  },
  {
   "cell_type": "code",
   "execution_count": null,
   "id": "80120455",
   "metadata": {
    "id": "80120455"
   },
   "outputs": [],
   "source": [
    "# TODO: build Sequential model: The Input will be 784.\n",
    "# The first layer will be Dense of 128 neurons and use the ReLU activation function\n",
    "# The second layer willbe Dense of 10 neurons and use the Softmax activation function\n",
    "from tensorflow import keras\n",
    "from tensorflow.keras import layers\n",
    "\n",
    "model = keras.Sequential([\n",
    "    layers.Input(shape=(____,)),\n",
    "    layers.Dense(____, activation=____),\n",
    "    layers.Dense(____, activation=____),\n",
    "])\n",
    "\n",
    "model.summary()"
   ]
  },
  {
   "cell_type": "markdown",
   "id": "c65ef973",
   "metadata": {
    "id": "c65ef973"
   },
   "source": [
    "## A.5 Compile and Train\n"
   ]
  },
  {
   "cell_type": "code",
   "execution_count": null,
   "id": "0200728e",
   "metadata": {
    "id": "0200728e"
   },
   "outputs": [],
   "source": [
    "# TODO: compile with Adam(1e-3). The loss will be Sparse Categorical Cross Entropy\n",
    "# Compile with the metric of Accuracy\n",
    "model.compile(optimizer=keras.optimizers.Adam(____),\n",
    "              loss=____,\n",
    "              metrics=[____])\n",
    "\n",
    "# TODO: train for 5 epochs with validation split of 10% and batch size of 128\n",
    "history = model.fit(x_train, y_train, validation_split=____, epochs=____, batch_size=____, verbose=2)"
   ]
  },
  {
   "cell_type": "markdown",
   "id": "3992627b",
   "metadata": {
    "id": "3992627b"
   },
   "source": [
    "## A.6 Evaluate, Predict, Visualize\n"
   ]
  },
  {
   "cell_type": "code",
   "execution_count": null,
   "id": "5cb5ced7",
   "metadata": {
    "id": "5cb5ced7"
   },
   "outputs": [],
   "source": [
    "# TODO: evaluate on test set\n",
    "test_loss, test_acc = model.evaluate(____, ____, verbose=0)\n",
    "print(f\"Test accuracy: {test_acc:.4f} | Test loss: {test_loss:.4f}\")\n",
    "\n",
    "# TODO: predict and convert to labels with argmax\n",
    "import numpy as np, matplotlib.pyplot as plt\n",
    "y_prob = model.predict(____, verbose=0)\n",
    "y_pred = np.____(y_prob, axis=1)\n",
    "\n",
    "# TODO: show 8 images with predicted vs true labels\n",
    "# Result should be Test accuracy: 0.9431 | Test loss: 0.1969 or something close\n",
    "# and then pictures of numbers in the MNIST dataset\n",
    "fig = plt.figure(figsize=(12,3))\n",
    "for i in range(8):\n",
    "    plt.subplot(1,8,i+1)\n",
    "    plt.imshow(____.reshape(-1,28,28)[i], cmap=\"gray\")   # x_test\n",
    "    plt.title(f\"P:{int(y_pred[i])} / T:{int(____[i])}\")  # y_test\n",
    "    plt.axis(\"off\")\n",
    "plt.tight_layout()"
   ]
  },
  {
   "cell_type": "markdown",
   "id": "bTLmJaBqXyds",
   "metadata": {
    "id": "bTLmJaBqXyds"
   },
   "source": [
    "## A.7 Answer the following discussion questions in Markdown. Please ensure your answers are robust, being composted of a minimum of 3 sentences each.\n",
    "\n",
    "1. Why is it important to normalize image pixel values to the range [0, 1] before training a neural network, and what might happen to model performance if normalization is skipped?\n",
    "2. In the Week 2 model, we used a single hidden layer with 128 units and a ReLU activation. How might increasing or decreasing the number of units in this layer affect training speed, overfitting risk, and model accuracy?\n"
   ]
  },
  {
   "cell_type": "code",
   "execution_count": null,
   "id": "45RHvgarX3bN",
   "metadata": {
    "executionInfo": {
     "elapsed": 4,
     "status": "ok",
     "timestamp": 1754936876349,
     "user": {
      "displayName": "Eric Lloyd",
      "userId": "18027152217279462431"
     },
     "user_tz": 420
    },
    "id": "45RHvgarX3bN"
   },
   "outputs": [],
   "source": []
  }
 ],
 "metadata": {
  "colab": {
   "provenance": []
  },
  "kernelspec": {
   "display_name": "Python 3",
   "language": "python",
   "name": "python3"
  }
 },
 "nbformat": 4,
 "nbformat_minor": 5
}
