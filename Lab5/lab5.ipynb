{
 "cells": [
  {
   "cell_type": "markdown",
   "id": "351d2f26",
   "metadata": {},
   "source": [
    "[![Open In Colab](https://colab.research.google.com/assets/colab-badge.svg)](https://colab.research.google.com/github/username/repo/blob/main/path-to-file)\n",
    "**Students:** Replace `username`, `repo`, and `path-to-file` with your own GitHub username, repository name, and the path to this file. Then use **File → Save a copy to GitHub**.\n"
   ]
  },
  {
   "cell_type": "markdown",
   "id": "19fbe447",
   "metadata": {},
   "source": [
    "# Lab 5 (Week 6) — Improving Deep Learning (Student v3)\n",
    "\n",
    "Everything here maps to these Week 6 scripts:\n",
    "\n",
    "- `6-weight_initialization.ipynb`\n",
    "- `6-deep_net_in_keras.ipynb`\n",
    "- `6-regression_in_keras.ipynb`\n",
    "\n",
    "**Sections**\n",
    "\n",
    "- E.1 Weight Initialization: activation stats through depth\n",
    "- E.2 Deep Classifier in Keras: BN, L2/Dropout, Optimizers\n",
    "- E.3 Regression in Keras with Regularization\n"
   ]
  },
  {
   "cell_type": "markdown",
   "id": "a92c886b",
   "metadata": {},
   "source": [
    "## E.1 Deep Classifier in Keras — BN, Regularization, Optimizers\n"
   ]
  },
  {
   "cell_type": "code",
   "execution_count": null,
   "id": "87f8b641",
   "metadata": {},
   "outputs": [],
   "source": [
    "# Instructions only — write your own code.\n",
    "# Dataset/Preprocess: same as `6-deep_net_in_keras.ipynb` (e.g., MNIST 28x28 → 784, /255)\n",
    "#\n",
    "# Part A — BatchNorm vs Baseline\n",
    "# - Build A) baseline MLP (ReLU), B) same but Dense→BatchNormalization→Activation('relu').\n",
    "# - Train ~3 epochs (val_split=0.1, batch_size=128), plot train/val accuracy, print test acc.\n",
    "#\n",
    "# Part B — L2 + Dropout\n",
    "# - Add kernel_regularizer=l2(1e-4) and Dropout(0.3); train ~5 epochs; print test acc; compare curves.\n",
    "#\n",
    "# Part C — Optimizers\n",
    "# - Compare ['sgd', SGD(momentum=0.9), 'rmsprop', 'adam']; 2–3 epochs each; print test acc.\n",
    "#\n",
    "# Hints: see `6-deep_net_in_keras.ipynb` for model/compile patterns and where BN/Dropout/optimizers are used.\n",
    "#\n",
    "# Expected output:\n",
    "# - BN stabilizes/boosts accuracy; L2+Dropout reduce overfitting; Adam/RMSProp often best in few epochs.\n",
    "# My output was; yours should be similar: \n",
    "# baseline  -> test acc: 0.9746\n",
    "# with_bn   -> test acc: 0.9724\n",
    "# Regularized (L2+Dropout) -> test acc: 0.9774\n",
    "# sgd      -> test acc: 0.9315\n",
    "# momentum -> test acc: 0.9704\n",
    "# rmsprop  -> test acc: 0.9720\n",
    "# adam     -> test acc: 0.9743\n"
   ]
  },
  {
   "cell_type": "markdown",
   "id": "63eff2da",
   "metadata": {},
   "source": [
    "## E.2 Regression in Keras — L2/Dropout Regularization\n"
   ]
  },
  {
   "cell_type": "code",
   "execution_count": null,
   "id": "c29d5727",
   "metadata": {},
   "outputs": [],
   "source": [
    "# Instructions only — write your own code.\n",
    "# Goal: reproduce regression pipeline from `6-regression_in_keras.ipynb` and add regularization.\n",
    "# Steps:\n",
    "# 1) Load the same regression dataset and normalize features similarly.\n",
    "# 2) Build MLP: Dense(128,'relu')->Dense(64,'relu')->Dense(1) with L2(1e-4) (+ optional Dropout(0.2)).\n",
    "# 3) Compile loss='mse', metric='mae'; train ~5 epochs (val_split=0.1); evaluate; print test MAE.\n",
    "#\n",
    "# Expected output:\n",
    "# - MAE on test set; regularized model generalizes better than non-regularized baseline.\n",
    "# my output was; yours will be close:\n",
    "# Regression model -> test MAE: 20.5995"
   ]
  },
  {
   "cell_type": "markdown",
   "id": "56835ae3",
   "metadata": {},
   "source": [
    "## Discussion\n",
    "\n",
    "1. What specific effects did BatchNorm and L2/Dropout have on your training/validation curves?\n",
    "\n",
    "2. In regression, how did regularization affect test MAE and why?\n"
   ]
  },
  {
   "cell_type": "markdown",
   "id": "36891bf1",
   "metadata": {},
   "source": []
  }
 ],
 "metadata": {
  "colab": {
   "name": "Lab 5 (Week 6) — Student v3"
  },
  "kernelspec": {
   "display_name": "Python 3",
   "language": "python",
   "name": "python3"
  }
 },
 "nbformat": 4,
 "nbformat_minor": 5
}
