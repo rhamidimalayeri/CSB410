{
  "cells": [
    {
      "cell_type": "markdown",
      "metadata": {
        "id": "7Y3a4EOn8zmY"
      },
      "source": [
        "# Transfer Learning in Keras\n",
        "\n",
        "In this notebook, we'll cover how to load a pre-trained model (in this case, VGGNet19) and finetune it for a new task: detecting hot dogs.\n"
      ]
    },
    {
      "cell_type": "markdown",
      "metadata": {
        "id": "AVfLJTZX8zma"
      },
      "source": [
        "[![Open In Colab](https://colab.research.google.com/assets/colab-badge.svg)](https://colab.research.google.com/github/NSC-BS-CS/CSB410_Labs/blob/main/BookLabs/7-transfer_learning_in_keras.ipynb)\n"
      ]
    },
    {
      "cell_type": "markdown",
      "source": [
        "## Warning\n",
        "You will need to download the dataset on Kaggle located at the URL below, then create the proper folder structure for this code to work\n",
        "(see screenshot below)\n",
        "\n",
        "https://www.kaggle.com/datasets/dansbecker/hot-dog-not-hot-dog?resource=download\n",
        "\n",
        "![Screenshot 2025-08-16 at 8.10.19 PM.png](data:image/png;base64,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)"
      ],
      "metadata": {
        "id": "O6EkBWmoAQb-"
      }
    },
    {
      "cell_type": "markdown",
      "metadata": {
        "id": "mFRhIXx38zma"
      },
      "source": [
        "#### Load dependencies\n"
      ]
    },
    {
      "cell_type": "code",
      "execution_count": 19,
      "metadata": {
        "id": "RglfFiPk8zma"
      },
      "outputs": [],
      "source": [
        "from keras.applications.vgg19 import VGG19\n",
        "from keras.models import Sequential\n",
        "from keras.layers import Dense, Dropout, Flatten\n",
        "from tensorflow.keras.preprocessing.image import ImageDataGenerator"
      ]
    },
    {
      "cell_type": "markdown",
      "metadata": {
        "id": "mLPq04Z98zmb"
      },
      "source": [
        "#### Load the pre-trained VGG19 model\n"
      ]
    },
    {
      "cell_type": "code",
      "execution_count": 20,
      "metadata": {
        "collapsed": true,
        "id": "-Rhqv3vw8zmb"
      },
      "outputs": [],
      "source": [
        "vgg19 = VGG19(include_top=False,\n",
        "              weights='imagenet',\n",
        "              input_shape=(224,224,3),\n",
        "              pooling=None)"
      ]
    },
    {
      "cell_type": "markdown",
      "metadata": {
        "id": "EKcuHDHp8zmb"
      },
      "source": [
        "#### Freeze all the layers in the base VGGNet19 model\n"
      ]
    },
    {
      "cell_type": "code",
      "execution_count": 21,
      "metadata": {
        "collapsed": true,
        "id": "i-G5lG8r8zmb"
      },
      "outputs": [],
      "source": [
        "for layer in vgg19.layers:\n",
        "    layer.trainable = False"
      ]
    },
    {
      "cell_type": "markdown",
      "metadata": {
        "id": "nFwzT6Wh8zmb"
      },
      "source": [
        "#### Add custom classification layers\n"
      ]
    },
    {
      "cell_type": "code",
      "execution_count": 22,
      "metadata": {
        "collapsed": true,
        "id": "e25Yc20E8zmc"
      },
      "outputs": [],
      "source": [
        "# Instantiate the sequential model and add the VGG19 model:\n",
        "model = Sequential()\n",
        "model.add(vgg19)\n",
        "\n",
        "# Add the custom layers atop the VGG19 model:\n",
        "model.add(Flatten(name='flattened'))\n",
        "model.add(Dropout(0.5, name='dropout'))\n",
        "model.add(Dense(2, activation='softmax', name='predictions'))"
      ]
    },
    {
      "cell_type": "markdown",
      "metadata": {
        "id": "qwyS-kzJ8zmc"
      },
      "source": [
        "#### Compile the model for training\n"
      ]
    },
    {
      "cell_type": "code",
      "execution_count": 23,
      "metadata": {
        "collapsed": true,
        "id": "MCY1f80c8zmc"
      },
      "outputs": [],
      "source": [
        "model.compile(optimizer='adam', loss='categorical_crossentropy', metrics=['accuracy'])"
      ]
    },
    {
      "cell_type": "markdown",
      "metadata": {
        "id": "Rjpx_8De8zmc"
      },
      "source": [
        "#### Prepare the data for training\n"
      ]
    },
    {
      "cell_type": "markdown",
      "metadata": {
        "id": "tN30vjZ98zmc"
      },
      "source": [
        "The dataset is available for download [here](https://www.kaggle.com/dansbecker/hot-dog-not-hot-dog/home).\n"
      ]
    },
    {
      "cell_type": "code",
      "execution_count": 24,
      "metadata": {
        "collapsed": true,
        "id": "1y2E7PSm8zmc"
      },
      "outputs": [],
      "source": [
        "# Instantiate two image generator classes:\n",
        "train_datagen = ImageDataGenerator(\n",
        "    rescale=1.0/255,\n",
        "    data_format='channels_last',\n",
        "    rotation_range=30,\n",
        "    horizontal_flip=True,\n",
        "    fill_mode='reflect')\n",
        "\n",
        "valid_datagen = ImageDataGenerator(\n",
        "    rescale=1.0/255,\n",
        "    data_format='channels_last')"
      ]
    },
    {
      "cell_type": "code",
      "execution_count": 25,
      "metadata": {
        "collapsed": true,
        "id": "9y-xGqIF8zmc"
      },
      "outputs": [],
      "source": [
        "# Define the batch size:\n",
        "batch_size=32"
      ]
    },
    {
      "cell_type": "code",
      "execution_count": 26,
      "metadata": {
        "colab": {
          "base_uri": "https://localhost:8080/"
        },
        "id": "IRMyxJul8zmc",
        "outputId": "f2c40882-84a8-42dc-a71c-99140cdcf794"
      },
      "outputs": [
        {
          "output_type": "stream",
          "name": "stdout",
          "text": [
            "Found 498 images belonging to 2 classes.\n",
            "Found 500 images belonging to 2 classes.\n"
          ]
        }
      ],
      "source": [
        "# Define the train and validation generators:\n",
        "train_generator = train_datagen.flow_from_directory(\n",
        "    directory='./hot-dog-not-hot-dog/train',\n",
        "    target_size=(224, 224),\n",
        "    classes=['hot_dog','not_hot_dog'],\n",
        "    class_mode='categorical',\n",
        "    batch_size=batch_size,\n",
        "    shuffle=True,\n",
        "    seed=42)\n",
        "\n",
        "valid_generator = valid_datagen.flow_from_directory(\n",
        "    directory='./hot-dog-not-hot-dog/test',\n",
        "    target_size=(224, 224),\n",
        "    classes=['hot_dog','not_hot_dog'],\n",
        "    class_mode='categorical',\n",
        "    batch_size=batch_size,\n",
        "    shuffle=True,\n",
        "    seed=42)"
      ]
    },
    {
      "cell_type": "code",
      "execution_count": 27,
      "metadata": {
        "colab": {
          "base_uri": "https://localhost:8080/"
        },
        "id": "igUr8ZEh8zmc",
        "outputId": "3c8b32b1-ebc3-4377-9779-65c404d8ce5a"
      },
      "outputs": [
        {
          "output_type": "stream",
          "name": "stdout",
          "text": [
            "Epoch 1/16\n",
            "\u001b[1m15/15\u001b[0m \u001b[32m━━━━━━━━━━━━━━━━━━━━\u001b[0m\u001b[37m\u001b[0m \u001b[1m10s\u001b[0m 516ms/step - accuracy: 0.5357 - loss: 0.8668 - val_accuracy: 0.7604 - val_loss: 0.5214\n",
            "Epoch 2/16\n",
            "\u001b[1m15/15\u001b[0m \u001b[32m━━━━━━━━━━━━━━━━━━━━\u001b[0m\u001b[37m\u001b[0m \u001b[1m1s\u001b[0m 76ms/step - accuracy: 0.6250 - loss: 0.8205 - val_accuracy: 0.6458 - val_loss: 0.7752\n",
            "Epoch 3/16\n",
            "\u001b[1m15/15\u001b[0m \u001b[32m━━━━━━━━━━━━━━━━━━━━\u001b[0m\u001b[37m\u001b[0m \u001b[1m6s\u001b[0m 422ms/step - accuracy: 0.7042 - loss: 0.7741 - val_accuracy: 0.7667 - val_loss: 0.5087\n",
            "Epoch 4/16\n",
            "\u001b[1m15/15\u001b[0m \u001b[32m━━━━━━━━━━━━━━━━━━━━\u001b[0m\u001b[37m\u001b[0m \u001b[1m1s\u001b[0m 72ms/step - accuracy: 0.7188 - loss: 0.7051 - val_accuracy: 0.7542 - val_loss: 0.5302\n",
            "Epoch 5/16\n",
            "\u001b[1m15/15\u001b[0m \u001b[32m━━━━━━━━━━━━━━━━━━━━\u001b[0m\u001b[37m\u001b[0m \u001b[1m6s\u001b[0m 412ms/step - accuracy: 0.8195 - loss: 0.3898 - val_accuracy: 0.7917 - val_loss: 0.4499\n",
            "Epoch 6/16\n",
            "\u001b[1m15/15\u001b[0m \u001b[32m━━━━━━━━━━━━━━━━━━━━\u001b[0m\u001b[37m\u001b[0m \u001b[1m1s\u001b[0m 72ms/step - accuracy: 0.8125 - loss: 0.4342 - val_accuracy: 0.7792 - val_loss: 0.4613\n",
            "Epoch 7/16\n",
            "\u001b[1m15/15\u001b[0m \u001b[32m━━━━━━━━━━━━━━━━━━━━\u001b[0m\u001b[37m\u001b[0m \u001b[1m6s\u001b[0m 413ms/step - accuracy: 0.7852 - loss: 0.4657 - val_accuracy: 0.7771 - val_loss: 0.4989\n",
            "Epoch 8/16\n",
            "\u001b[1m15/15\u001b[0m \u001b[32m━━━━━━━━━━━━━━━━━━━━\u001b[0m\u001b[37m\u001b[0m \u001b[1m1s\u001b[0m 72ms/step - accuracy: 0.8438 - loss: 0.3966 - val_accuracy: 0.7667 - val_loss: 0.5163\n",
            "Epoch 9/16\n",
            "\u001b[1m15/15\u001b[0m \u001b[32m━━━━━━━━━━━━━━━━━━━━\u001b[0m\u001b[37m\u001b[0m \u001b[1m6s\u001b[0m 414ms/step - accuracy: 0.8295 - loss: 0.4024 - val_accuracy: 0.7792 - val_loss: 0.4600\n",
            "Epoch 10/16\n",
            "\u001b[1m15/15\u001b[0m \u001b[32m━━━━━━━━━━━━━━━━━━━━\u001b[0m\u001b[37m\u001b[0m \u001b[1m1s\u001b[0m 72ms/step - accuracy: 0.9688 - loss: 0.1403 - val_accuracy: 0.7875 - val_loss: 0.4329\n",
            "Epoch 11/16\n",
            "\u001b[1m15/15\u001b[0m \u001b[32m━━━━━━━━━━━━━━━━━━━━\u001b[0m\u001b[37m\u001b[0m \u001b[1m6s\u001b[0m 412ms/step - accuracy: 0.8421 - loss: 0.3199 - val_accuracy: 0.7875 - val_loss: 0.5064\n",
            "Epoch 12/16\n",
            "\u001b[1m15/15\u001b[0m \u001b[32m━━━━━━━━━━━━━━━━━━━━\u001b[0m\u001b[37m\u001b[0m \u001b[1m1s\u001b[0m 77ms/step - accuracy: 0.9375 - loss: 0.2541 - val_accuracy: 0.7688 - val_loss: 0.4474\n",
            "Epoch 13/16\n",
            "\u001b[1m15/15\u001b[0m \u001b[32m━━━━━━━━━━━━━━━━━━━━\u001b[0m\u001b[37m\u001b[0m \u001b[1m6s\u001b[0m 418ms/step - accuracy: 0.8345 - loss: 0.3677 - val_accuracy: 0.7792 - val_loss: 0.4429\n",
            "Epoch 14/16\n",
            "\u001b[1m15/15\u001b[0m \u001b[32m━━━━━━━━━━━━━━━━━━━━\u001b[0m\u001b[37m\u001b[0m \u001b[1m1s\u001b[0m 73ms/step - accuracy: 0.8750 - loss: 0.3623 - val_accuracy: 0.7688 - val_loss: 0.4736\n",
            "Epoch 15/16\n",
            "\u001b[1m15/15\u001b[0m \u001b[32m━━━━━━━━━━━━━━━━━━━━\u001b[0m\u001b[37m\u001b[0m \u001b[1m6s\u001b[0m 411ms/step - accuracy: 0.8654 - loss: 0.3078 - val_accuracy: 0.7958 - val_loss: 0.4593\n",
            "Epoch 16/16\n",
            "\u001b[1m15/15\u001b[0m \u001b[32m━━━━━━━━━━━━━━━━━━━━\u001b[0m\u001b[37m\u001b[0m \u001b[1m1s\u001b[0m 73ms/step - accuracy: 0.9375 - loss: 0.2199 - val_accuracy: 0.7854 - val_loss: 0.4620\n"
          ]
        },
        {
          "output_type": "execute_result",
          "data": {
            "text/plain": [
              "<keras.src.callbacks.history.History at 0x7e4ad8371d90>"
            ]
          },
          "metadata": {},
          "execution_count": 27
        }
      ],
      "source": [
        "model.fit(train_generator, steps_per_epoch=15,\n",
        "                    epochs=16, validation_data=valid_generator,\n",
        "                    validation_steps=15)"
      ]
    }
  ],
  "metadata": {
    "kernelspec": {
      "display_name": "Python 3",
      "name": "python3"
    },
    "language_info": {
      "codemirror_mode": {
        "name": "ipython",
        "version": 3
      },
      "file_extension": ".py",
      "mimetype": "text/x-python",
      "name": "python",
      "nbconvert_exporter": "python",
      "pygments_lexer": "ipython3",
      "version": "3.10.18"
    },
    "colab": {
      "provenance": [],
      "machine_shape": "hm",
      "gpuType": "A100"
    },
    "accelerator": "GPU"
  },
  "nbformat": 4,
  "nbformat_minor": 0
}