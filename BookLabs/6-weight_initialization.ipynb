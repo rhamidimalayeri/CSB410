{
  "cells": [
    {
      "cell_type": "markdown",
      "metadata": {
        "id": "k7xhI9O45Rrq"
      },
      "source": [
        "# Weight Initialization\n"
      ]
    },
    {
      "cell_type": "markdown",
      "metadata": {
        "id": "AnqR2mDX5Rrs"
      },
      "source": [
        "In this notebook, we experiment with weight initialization approaches to examine their impact on layer outputs.\n"
      ]
    },
    {
      "cell_type": "markdown",
      "metadata": {
        "id": "eeCFSxmb5Rrs"
      },
      "source": [
        "[![Open In Colab](https://colab.research.google.com/assets/colab-badge.svg)](https://colab.research.google.com/github/NSC-BS-CS/CSB410_Labs/blob/main/BookLabs/6-weight_initialization.ipynb)\n"
      ]
    },
    {
      "cell_type": "markdown",
      "metadata": {
        "id": "8tIirBPm5Rrs"
      },
      "source": [
        "#### Load dependencies\n"
      ]
    },
    {
      "cell_type": "code",
      "execution_count": 1,
      "metadata": {
        "id": "MPVtHrtS5Rrs"
      },
      "outputs": [],
      "source": [
        "import numpy as np\n",
        "import matplotlib.pyplot as plt\n",
        "\n",
        "from keras import Sequential\n",
        "from keras.layers import Dense, Activation\n",
        "from keras.initializers import Zeros, RandomNormal, glorot_normal, glorot_uniform"
      ]
    },
    {
      "cell_type": "markdown",
      "metadata": {
        "id": "O7reL24Z5Rrt"
      },
      "source": [
        "#### Set number of neurons\n"
      ]
    },
    {
      "cell_type": "code",
      "execution_count": 2,
      "metadata": {
        "id": "E9NUFr6g5Rrt"
      },
      "outputs": [],
      "source": [
        "n_input = 784\n",
        "n_dense = 256"
      ]
    },
    {
      "cell_type": "markdown",
      "metadata": {
        "id": "DrzesAu15Rrt"
      },
      "source": [
        "#### Select a bias initializer\n"
      ]
    },
    {
      "cell_type": "code",
      "execution_count": 3,
      "metadata": {
        "id": "Y3AeQyKs5Rrt"
      },
      "outputs": [],
      "source": [
        "b_init = Zeros()"
      ]
    },
    {
      "cell_type": "markdown",
      "metadata": {
        "id": "jVUdagV25Rru"
      },
      "source": [
        "#### Select a weight initializer\n"
      ]
    },
    {
      "cell_type": "code",
      "execution_count": 4,
      "metadata": {
        "id": "-j8DyeBR5Rru"
      },
      "outputs": [],
      "source": [
        "w_init = RandomNormal(stddev=1.0)\n",
        "# w_init = glorot_normal()\n",
        "# w_init = glorot_uniform()"
      ]
    },
    {
      "cell_type": "markdown",
      "metadata": {
        "id": "9H_Db5pu5Rru"
      },
      "source": [
        "#### Design neural network architecture\n"
      ]
    },
    {
      "cell_type": "code",
      "execution_count": 5,
      "metadata": {
        "id": "m2l05lDx5Rru",
        "outputId": "5a04a6cd-ea7c-4fd4-ea40-b9de879b320a",
        "colab": {
          "base_uri": "https://localhost:8080/"
        }
      },
      "outputs": [
        {
          "output_type": "stream",
          "name": "stderr",
          "text": [
            "/usr/local/lib/python3.11/dist-packages/keras/src/layers/core/dense.py:93: UserWarning: Do not pass an `input_shape`/`input_dim` argument to a layer. When using Sequential models, prefer using an `Input(shape)` object as the first layer in the model instead.\n",
            "  super().__init__(activity_regularizer=activity_regularizer, **kwargs)\n"
          ]
        }
      ],
      "source": [
        "model = Sequential()\n",
        "model.add(Dense(n_dense,\n",
        "                input_dim=n_input,\n",
        "                kernel_initializer=w_init,\n",
        "                bias_initializer=b_init))\n",
        "model.add(Activation('sigmoid'))\n",
        "# model.add(Activation('tanh'))\n",
        "# model.add(Activation('relu'))"
      ]
    },
    {
      "cell_type": "markdown",
      "metadata": {
        "id": "ztnLnmv25Rru"
      },
      "source": [
        "#### Generate random _x_ values\n"
      ]
    },
    {
      "cell_type": "code",
      "execution_count": 6,
      "metadata": {
        "id": "awYSU_xg5Rru"
      },
      "outputs": [],
      "source": [
        "x = np.random.random((1,n_input))"
      ]
    },
    {
      "cell_type": "markdown",
      "metadata": {
        "id": "AdvlXJU25Rru"
      },
      "source": [
        "#### Forward propagate through the network\n"
      ]
    },
    {
      "cell_type": "code",
      "execution_count": 7,
      "metadata": {
        "id": "KSpGjEWT5Rru",
        "outputId": "c03c6636-1663-44ac-eab9-51c1a5abe131",
        "colab": {
          "base_uri": "https://localhost:8080/"
        }
      },
      "outputs": [
        {
          "output_type": "stream",
          "name": "stdout",
          "text": [
            "\u001b[1m1/1\u001b[0m \u001b[32m━━━━━━━━━━━━━━━━━━━━\u001b[0m\u001b[37m\u001b[0m \u001b[1m0s\u001b[0m 297ms/step\n"
          ]
        }
      ],
      "source": [
        "a = model.predict(x)"
      ]
    },
    {
      "cell_type": "code",
      "execution_count": 8,
      "metadata": {
        "id": "CeI5-MF25Rru",
        "outputId": "586b316d-00e7-4b9b-fb2f-109fdf88e773",
        "colab": {
          "base_uri": "https://localhost:8080/"
        }
      },
      "outputs": [
        {
          "output_type": "execute_result",
          "data": {
            "text/plain": [
              "array([[1.67613685e-13, 1.45249830e-08, 1.00000000e+00, 2.82845348e-01,\n",
              "        1.74757019e-13, 7.36053525e-13, 9.99999702e-01, 1.14106558e-10,\n",
              "        1.00000000e+00, 1.00000000e+00, 1.38818637e-01, 2.98105627e-02,\n",
              "        3.56014789e-05, 1.00000000e+00, 1.06315172e-04, 9.98040736e-01,\n",
              "        1.00000000e+00, 5.56339202e-14, 7.02309087e-02, 2.92790774e-02,\n",
              "        3.50335094e-10, 1.15340765e-06, 4.54455762e-09, 8.38046372e-01,\n",
              "        2.26171119e-06, 8.68635907e-05, 6.30260646e-01, 1.08548020e-05,\n",
              "        1.30630666e-02, 1.00000000e+00, 6.15896643e-05, 1.00000000e+00,\n",
              "        9.98832762e-01, 5.85263371e-01, 9.70488846e-01, 6.52636051e-01,\n",
              "        2.92487199e-13, 1.00000000e+00, 5.96727058e-02, 8.42704103e-05,\n",
              "        1.17036609e-06, 2.35795897e-14, 5.28453529e-13, 1.00000000e+00,\n",
              "        3.58995528e-10, 4.46499034e-04, 9.95080054e-01, 1.00000000e+00,\n",
              "        1.00000000e+00, 1.00000000e+00, 2.38151816e-12, 1.00000000e+00,\n",
              "        2.07552898e-06, 1.21886114e-04, 3.18021653e-03, 1.00000000e+00,\n",
              "        2.68890176e-07, 2.97194678e-17, 9.99564767e-01, 1.00000000e+00,\n",
              "        8.28602850e-01, 8.19538826e-10, 9.79245007e-01, 1.48732626e-08,\n",
              "        4.70423043e-01, 1.00000000e+00, 1.00000000e+00, 9.99958038e-01,\n",
              "        4.69312863e-06, 1.00000000e+00, 4.33147810e-02, 1.00000000e+00,\n",
              "        1.24284523e-02, 8.75905680e-05, 5.17312985e-16, 9.93623018e-01,\n",
              "        1.00000000e+00, 5.68218715e-03, 9.99999881e-01, 9.98194873e-01,\n",
              "        8.47442389e-01, 3.34712102e-09, 1.58705667e-20, 5.81193866e-08,\n",
              "        9.99916792e-01, 6.49416260e-03, 1.44593827e-07, 5.35614930e-08,\n",
              "        6.76409909e-05, 1.56827662e-09, 4.73505724e-09, 6.41865969e-01,\n",
              "        1.85063868e-07, 6.84405171e-11, 5.10652535e-06, 1.00000000e+00,\n",
              "        1.00000000e+00, 2.42955196e-07, 5.35586802e-03, 2.27131792e-07,\n",
              "        2.50988815e-04, 9.99989212e-01, 9.99999106e-01, 1.17824739e-03,\n",
              "        5.64440727e-01, 1.00000000e+00, 9.22102749e-01, 9.99999404e-01,\n",
              "        8.57628465e-01, 8.93258004e-07, 9.83895361e-01, 9.80293393e-01,\n",
              "        2.43774513e-04, 9.99999583e-01, 9.44536116e-11, 9.99999344e-01,\n",
              "        1.00000000e+00, 1.04155046e-15, 2.05817353e-03, 9.97804701e-01,\n",
              "        4.97174257e-09, 1.00000000e+00, 9.99999464e-01, 9.99956071e-01,\n",
              "        2.24355404e-06, 1.00000000e+00, 1.75834546e-04, 9.99584556e-01,\n",
              "        1.17995569e-07, 6.69796407e-01, 2.49681458e-01, 1.00000000e+00,\n",
              "        8.55122805e-01, 9.99783039e-01, 9.92738128e-01, 9.99817252e-01,\n",
              "        1.86824394e-07, 1.17515932e-15, 4.62220758e-01, 6.19036364e-05,\n",
              "        9.99788225e-01, 4.82729869e-04, 1.00000000e+00, 2.34263088e-03,\n",
              "        9.96847391e-01, 1.00000000e+00, 9.90639508e-01, 1.27582331e-04,\n",
              "        1.00000000e+00, 2.78420984e-11, 1.00000000e+00, 1.00000000e+00,\n",
              "        1.61843083e-15, 5.46911478e-01, 5.78642935e-16, 7.74649106e-06,\n",
              "        7.90447666e-06, 9.99963462e-01, 7.00849831e-01, 9.99999940e-01,\n",
              "        2.17992167e-08, 1.00000000e+00, 2.45212466e-01, 9.67555225e-01,\n",
              "        9.99999762e-01, 9.99995649e-01, 1.00000000e+00, 1.00000000e+00,\n",
              "        9.63519469e-08, 1.30220678e-06, 9.98037219e-01, 1.13322862e-07,\n",
              "        9.57477272e-01, 5.06017894e-09, 9.99999523e-01, 3.71434920e-20,\n",
              "        9.63163793e-01, 8.41405034e-01, 5.91348827e-01, 1.00000000e+00,\n",
              "        1.00000000e+00, 2.82513497e-07, 9.99990582e-01, 8.71454831e-04,\n",
              "        1.85550157e-14, 7.88650825e-04, 1.00000000e+00, 2.11591110e-01,\n",
              "        3.20069611e-01, 1.24256957e-07, 1.00000000e+00, 9.54865634e-01,\n",
              "        2.00814452e-06, 1.09322672e-03, 9.96916413e-01, 3.40348028e-11,\n",
              "        1.00000000e+00, 1.71288434e-06, 9.99896348e-01, 9.99997973e-01,\n",
              "        9.59558487e-01, 1.00000000e+00, 9.99997616e-01, 9.99999881e-01,\n",
              "        9.70059657e-04, 2.45712930e-04, 6.36359646e-11, 9.99258876e-01,\n",
              "        6.01399890e-08, 1.00000000e+00, 1.65341353e-05, 9.99998152e-01,\n",
              "        1.72657788e-01, 7.73686886e-01, 9.99999702e-01, 2.98135569e-06,\n",
              "        1.19551123e-06, 9.99605238e-01, 9.29693520e-01, 2.24274979e-03,\n",
              "        1.00000000e+00, 9.99627233e-01, 1.00000000e+00, 8.96533951e-03,\n",
              "        9.07957372e-07, 1.00000000e+00, 9.99276519e-01, 9.99999821e-01,\n",
              "        7.38903982e-05, 9.29616153e-01, 4.35034446e-02, 5.52092388e-04,\n",
              "        2.45944554e-09, 9.99428153e-01, 9.09152925e-01, 9.99999881e-01,\n",
              "        8.00672524e-08, 2.59363987e-05, 2.05394288e-04, 9.99999702e-01,\n",
              "        2.34814934e-06, 9.99679804e-01, 1.23011532e-05, 3.66101302e-02,\n",
              "        5.05795299e-08, 7.16692114e-07, 1.00000000e+00, 6.43126070e-01,\n",
              "        3.59738478e-03, 6.88959420e-01, 9.99963820e-01, 8.46382426e-12,\n",
              "        2.37096317e-15, 9.99995589e-01, 9.35594713e-10, 9.93463695e-01]],\n",
              "      dtype=float32)"
            ]
          },
          "metadata": {},
          "execution_count": 8
        }
      ],
      "source": [
        "a"
      ]
    },
    {
      "cell_type": "code",
      "execution_count": 9,
      "metadata": {
        "id": "tcRXyHpN5Rru",
        "outputId": "fd485090-8652-445b-ce9e-9558544aec06",
        "colab": {
          "base_uri": "https://localhost:8080/",
          "height": 430
        }
      },
      "outputs": [
        {
          "output_type": "display_data",
          "data": {
            "text/plain": [
              "<Figure size 640x480 with 1 Axes>"
            ],
            "image/png": "[encoded data removed]"
          },
          "metadata": {}
        }
      ],
      "source": [
        "_ = plt.hist(np.transpose(a))"
      ]
    },
    {
      "cell_type": "code",
      "execution_count": 9,
      "metadata": {
        "id": "vn2HNedr5Rru"
      },
      "outputs": [],
      "source": []
    }
  ],
  "metadata": {
    "kernelspec": {
      "display_name": "Python 3",
      "language": "python",
      "name": "python3"
    },
    "language_info": {
      "codemirror_mode": {
        "name": "ipython",
        "version": 3
      },
      "file_extension": ".py",
      "mimetype": "text/x-python",
      "name": "python",
      "nbconvert_exporter": "python",
      "pygments_lexer": "ipython3",
      "version": "3.6.5"
    },
    "colab": {
      "provenance": []
    }
  },
  "nbformat": 4,
  "nbformat_minor": 0
}